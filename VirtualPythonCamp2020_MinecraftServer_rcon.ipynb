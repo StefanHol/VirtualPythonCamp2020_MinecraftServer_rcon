{
 "cells": [
  {
   "cell_type": "markdown",
   "metadata": {},
   "source": [
    "# Minecraft Server über Python steuern"
   ]
  },
  {
   "cell_type": "markdown",
   "metadata": {},
   "source": [
    "\n",
    "## Voraussetzung\n",
    "\n",
    "### Server:\n",
    "- Minecraft Java Version 1.15.2\n",
    "\n",
    "\n",
    "- Minecraft Server:\n",
    "  - https://getbukkit.org/download/spigot\n",
    "    - ich nutze hier \"spigot 1.15.2\" Tuesday, January 21 2020\n",
    "    - dazu die Datei spigot-1.15.2.jar herunterladen\n",
    "  \n",
    "  - plugins\n",
    "    - **Mapcoords**: https://dev.bukkit.org/projects/mapcoords\n",
    "      - ermöglich euch Spieler zu lokalisieren inkl. Map und Koordinaten\n",
    "    - **Multiverse-Core**: https://dev.bukkit.org/projects/multiverse-core\n",
    "      - Ermöglicht das anlegen mehrerer Maps auf einem Server\n",
    "    - WarpPortals: https://dev.bukkit.org/projects/warp-portals\n",
    "      - Portale zwischen den einzelnen Maps erstellen      \n",
    "    - *WorldEdit*: https://dev.bukkit.org/projects/worldedit\n",
    "      - Ermöglicht dem Spieler Elemente/Bauten zu kopieren/einzufügen\n",
    "      - Anlegen von Snippets/Schematics\n",
    "      - Leider war es mir bisher nicht möglich, diese Funktionen remote auszuführen\n",
    "      - Anleitung zur Nutzung https://www.planetminecraft.com/blog/the-complete-worldedit-tutorial-with-personal-tips-amp-tricks-2756799/\n",
    "      \n",
    "      \n",
    "  \n",
    "Die oben genannten Dateien wie folgt in einem eigenen Serverpfad ablegen. z.B.:\n",
    "- Windows: **c:\\minecraftserver**\n",
    "- Linux **~/___user___/minecraftserver**\n",
    "\n",
    "    |-- Serverpfad\n",
    "        |-- spigot-1.15.2.jar\n",
    "        |\n",
    "        |-- server.properties   wird beim ersten start angelegt und muss editiert werden. s.u.\n",
    "        |-- eula.txt            wird beim ersten start angelegt und muss editiert werden. s.u.\n",
    "        |-- start.bat           euer start Batchfile für Windows\n",
    "        |-- shart.sh            oder euer start shell file für Linux\n",
    "        |\n",
    "        |-- plugins\n",
    "            |-- Mapcoords.jar\n",
    "            |-- Multiverse-Core-4.1.0.jar\n",
    "            \n",
    "- eine ausführliche Anleitung gibt es hier https://minecraft.gamepedia.com/Tutorials/Setting_up_a_server\n",
    "            \n",
    "\n",
    "### Python:\n",
    "- Zum Steuern die Python Lib mcrcon\n",
    "  - https://pypi.org/project/mcrcon/\n",
    "      - installieren mit: pip install mcron\n",
    "      \n",
    "  "
   ]
  },
  {
   "cell_type": "markdown",
   "metadata": {},
   "source": [
    "### server.properties\n",
    "#### für rcon vorbereiten\n",
    "##### setze ein password\n",
    "- rcon.password=MySecretKey\n",
    "- enable-rcon=true\n",
    "- rcon.port=25575\n",
    "\n",
    "\n",
    "#### mehr Infos zu server.properties\n",
    "  - https://minecraft-de.gamepedia.com/Server.properties"
   ]
  },
  {
   "cell_type": "code",
   "execution_count": null,
   "metadata": {
    "collapsed": true
   },
   "outputs": [],
   "source": []
  },
  {
   "cell_type": "markdown",
   "metadata": {},
   "source": [
    "## start.bat\n",
    "start \"My Server\" /min java -Xms512M -Xmx1G -XX:+UseConcMarkSweepGC -jar spigot-1.15.2.jar\n",
    "\n",
    "oder einfach\n",
    "\n",
    "java -Xms512M -Xmx1G -XX:+UseConcMarkSweepGC -jar spigot-1.15.2.jar"
   ]
  },
  {
   "cell_type": "markdown",
   "metadata": {},
   "source": [
    "# Nutzung ___mcron___"
   ]
  },
  {
   "cell_type": "code",
   "execution_count": null,
   "metadata": {
    "collapsed": true
   },
   "outputs": [],
   "source": [
    "from mcrcon import MCRcon\n",
    "# https://help.serverblend.com/en/article/rust-rcon-server-commands-ohd7z8/\n"
   ]
  },
  {
   "cell_type": "code",
   "execution_count": null,
   "metadata": {
    "collapsed": false
   },
   "outputs": [],
   "source": [
    "from secrets import credential\n",
    "import secrets"
   ]
  },
  {
   "cell_type": "code",
   "execution_count": null,
   "metadata": {
    "collapsed": false
   },
   "outputs": [],
   "source": [
    "# servername = \"127.0.0.1\"\n",
    "# mysecret = \"MySecretKey\"\n",
    "# mysecret = 25575\n",
    "\n",
    "servername = secrets.sys_local.servername\n",
    "mysecret = secrets.sys_local.mysecret\n",
    "myport = secrets.sys_local.myport\n"
   ]
  },
  {
   "cell_type": "markdown",
   "metadata": {
    "collapsed": false
   },
   "source": [
    "### erst mal ein Kommando ausführen\n",
    "- bsp: /list"
   ]
  },
  {
   "cell_type": "code",
   "execution_count": null,
   "metadata": {
    "collapsed": false
   },
   "outputs": [],
   "source": [
    "command = \"list\"\n",
    "mcr = MCRcon(host=servername, password=mysecret, port=myport)\n",
    "mcr.connect()\n",
    "resp = mcr.command(command)\n",
    "print(resp)\n",
    "mcr.disconnect()"
   ]
  },
  {
   "cell_type": "markdown",
   "metadata": {},
   "source": [
    "- Befehle werden ohne \"/\" eingegeben"
   ]
  },
  {
   "cell_type": "code",
   "execution_count": null,
   "metadata": {
    "collapsed": true
   },
   "outputs": [],
   "source": [
    "def get_response_command(command, parameter=None):\n",
    "    mcr = MCRcon(host=servername, password=mysecret, port = myport)\n",
    "    mcr.connect()\n",
    "    if parameter == None:\n",
    "        resp = mcr.command(command)\n",
    "    else:\n",
    "        resp = mcr.command(command + \" \" + parameter)\n",
    "    mcr.disconnect()\n",
    "    return resp"
   ]
  },
  {
   "cell_type": "code",
   "execution_count": null,
   "metadata": {
    "collapsed": true
   },
   "outputs": [],
   "source": []
  },
  {
   "cell_type": "code",
   "execution_count": null,
   "metadata": {
    "collapsed": false
   },
   "outputs": [],
   "source": [
    "command = \"list\"\n",
    "# command = \"op PixelLaeufer\"\n",
    "get_response_command(command)"
   ]
  },
  {
   "cell_type": "code",
   "execution_count": null,
   "metadata": {
    "collapsed": false
   },
   "outputs": [],
   "source": [
    "get_response_command(\"time set day\")"
   ]
  },
  {
   "cell_type": "markdown",
   "metadata": {},
   "source": [
    "### Das Ganze als Funktion"
   ]
  },
  {
   "cell_type": "markdown",
   "metadata": {},
   "source": [
    "- Tageszeit einstellen\n",
    "- Wetter umstellen"
   ]
  },
  {
   "cell_type": "code",
   "execution_count": null,
   "metadata": {
    "collapsed": true
   },
   "outputs": [],
   "source": [
    "def set_time_day():\n",
    "    return get_response_command(\"time\", \"set day\")\n",
    "def set_weather_clear():\n",
    "    return get_response_command(\"weather\", \"clear\")"
   ]
  },
  {
   "cell_type": "code",
   "execution_count": null,
   "metadata": {
    "collapsed": false
   },
   "outputs": [],
   "source": [
    "set_time_day()"
   ]
  },
  {
   "cell_type": "code",
   "execution_count": null,
   "metadata": {
    "collapsed": false
   },
   "outputs": [],
   "source": [
    "set_weather_clear()"
   ]
  },
  {
   "cell_type": "markdown",
   "metadata": {},
   "source": [
    "### Das gleiche in der Erweiterung auf den Aufenthaltsort eines bestimmten Spielers bezogen"
   ]
  },
  {
   "cell_type": "code",
   "execution_count": null,
   "metadata": {
    "collapsed": true
   },
   "outputs": [],
   "source": [
    "def set_time_day_at_player(playername = \"PixelLaeufer\"):\n",
    "    get_response_command(\"execute at {} anchored eyes run time set day\".format(playername))\n",
    "def set_weather_clear_at_player(playername = \"PixelLaeufer\"):\n",
    "    get_response_command(\"execute at {} anchored eyes run weather clear\".format(playername))\n",
    "    "
   ]
  },
  {
   "cell_type": "code",
   "execution_count": null,
   "metadata": {
    "collapsed": false
   },
   "outputs": [],
   "source": [
    "set_time_day_at_player(playername = \"PixelLaeufer\")"
   ]
  },
  {
   "cell_type": "markdown",
   "metadata": {},
   "source": [
    "### Möchtest du deine Umgebung aufräumen?\n",
    "- Alle Monster und Tiere Töten\n",
    "  - Es ist nur ein Spiel, als vegetarier würde ich das sonst nicht machen"
   ]
  },
  {
   "cell_type": "code",
   "execution_count": null,
   "metadata": {
    "collapsed": true
   },
   "outputs": [],
   "source": [
    "def kill_all_monsters_and_animals():\n",
    "    get_response_command(\"kill @e[type=!minecraft:player]\")\n",
    "\n",
    "def kill_all_monsters_and_animals_at_player(playername = \"\"):\n",
    "    get_response_command(\"execute at {} anchored eyes run kill @e[type=!minecraft:player]\".format(playername))"
   ]
  },
  {
   "cell_type": "code",
   "execution_count": null,
   "metadata": {
    "collapsed": false
   },
   "outputs": [],
   "source": [
    "kill_all_monsters_and_animals()\n"
   ]
  },
  {
   "cell_type": "markdown",
   "metadata": {},
   "source": [
    "## Nochmal zurück zur Liste der aktuellen Spieler"
   ]
  },
  {
   "cell_type": "code",
   "execution_count": null,
   "metadata": {
    "collapsed": false
   },
   "outputs": [],
   "source": [
    "command = \"list\"\n",
    "get_response_command(command)"
   ]
  },
  {
   "cell_type": "code",
   "execution_count": null,
   "metadata": {
    "collapsed": true
   },
   "outputs": [],
   "source": [
    "def get_online_players_separated():\n",
    "    resp = get_response_command(\"list\")\n",
    "\n",
    "    # print(resp)\n",
    "    if \"There are\" in resp:\n",
    "        counts = resp.split(\"There are \")[1]\n",
    "        counts = int(counts.split(\" of a max\")[0])\n",
    "        players = resp.split(\"players online: \")[1]\n",
    "        players = players.split(\", \")\n",
    "        return [counts, players]\n",
    "    else:\n",
    "        return [-1, [''] ]"
   ]
  },
  {
   "cell_type": "code",
   "execution_count": null,
   "metadata": {
    "collapsed": true
   },
   "outputs": [],
   "source": [
    "def get_online_players():\n",
    "    resp = get_response_command(\"list\")\n",
    "    # print(resp)\n",
    "    if \"There are\" in resp:\n",
    "        counts = resp.split(\"There are \")[1]\n",
    "        counts = int(counts.split(\" of a max\")[0])\n",
    "        players = resp.split(\"players online: \")[1].split(\", \")\n",
    "        return [counts, players]\n",
    "    else:\n",
    "        return [-1, [''] ]"
   ]
  },
  {
   "cell_type": "code",
   "execution_count": null,
   "metadata": {
    "collapsed": false
   },
   "outputs": [],
   "source": [
    "get_online_players()"
   ]
  },
  {
   "cell_type": "markdown",
   "metadata": {},
   "source": [
    "### Nun einzelne Spieler lokaisieren mit dem Plugin mapcoords\n",
    "- Befehl: \"mc find\""
   ]
  },
  {
   "cell_type": "code",
   "execution_count": null,
   "metadata": {
    "collapsed": false
   },
   "outputs": [],
   "source": [
    "get_response_command(\"mc find PixelLaeufer\")"
   ]
  },
  {
   "cell_type": "code",
   "execution_count": null,
   "metadata": {
    "collapsed": false
   },
   "outputs": [],
   "source": [
    "def get_players_location(name):\n",
    "    # return [PlayerName, Map, [x, y, z]]\n",
    "    result = get_response_command(\"mc find \" + str(name))\n",
    "    if not \"isn't online\" in result:\n",
    "        result = result.replace(\"§6\", \"\")\n",
    "        result = result.replace(\"§f\", \"\")\n",
    "        result = result.replace(\"§d\", \"\")\n",
    "        result = result.replace(\"§b\", \"\")\n",
    "        Player = result.split(\" is at \")\n",
    "        Map = Player[1].split(\" X: \")[0].split(\"[\")[1]\n",
    "        Map = Map.split(\"]\")[0]\n",
    "        mystr = Player[1]\n",
    "        newstr = ''.join((ch if ch in '0123456789.-' else ' ') for ch in mystr)\n",
    "        numbers = [float(i) for i in newstr.split()]\n",
    "        Coords = [int(numbers[-3]), int(numbers[-2]), int(numbers[-1])]\n",
    "        return [Player[0], Map, Coords]\n",
    "    else:\n",
    "        return []\n"
   ]
  },
  {
   "cell_type": "code",
   "execution_count": null,
   "metadata": {
    "collapsed": false
   },
   "outputs": [],
   "source": [
    "get_players_location(\"PixelLaeufer\")"
   ]
  },
  {
   "cell_type": "markdown",
   "metadata": {},
   "source": [
    "### Jetzt möchte ich eine Liste aller Spieler erhalten\n",
    "- mit Welt und Koordinalten"
   ]
  },
  {
   "cell_type": "markdown",
   "metadata": {},
   "source": [
    "#### Rückgabe als Liste"
   ]
  },
  {
   "cell_type": "code",
   "execution_count": null,
   "metadata": {
    "collapsed": false
   },
   "outputs": [],
   "source": [
    "def get_all_online_players_location():\n",
    "    # return [ [PlayerName1, Map, [x, y, z]], [PlayerName2, Map, [x, y, z]] ]\n",
    "    online_list = get_online_players()\n",
    "    player_locations = []\n",
    "    for index in range(online_list[0]):\n",
    "        player_locations.append(get_players_location(online_list[1][index]))\n",
    "    return player_locations"
   ]
  },
  {
   "cell_type": "code",
   "execution_count": null,
   "metadata": {
    "collapsed": false
   },
   "outputs": [],
   "source": [
    "get_all_online_players_location()"
   ]
  },
  {
   "cell_type": "markdown",
   "metadata": {},
   "source": [
    "#### Rückgabe als Dict"
   ]
  },
  {
   "cell_type": "code",
   "execution_count": null,
   "metadata": {
    "collapsed": false
   },
   "outputs": [],
   "source": [
    "def get_player_locations_as_dict():\n",
    "    # return {'PlayerName1': ['Overworld', [249, 68, 205]], \n",
    "    #         'PlayerName2': ['Overworld', [249, 68, 205]]}\n",
    "    players_dict = {}\n",
    "    result = get_all_online_players_location()\n",
    "    for each in result:\n",
    "        players_dict[each[0]] = [each[1], each[2]]\n",
    "    return players_dict"
   ]
  },
  {
   "cell_type": "code",
   "execution_count": null,
   "metadata": {
    "collapsed": false
   },
   "outputs": [],
   "source": [
    "players_dict = get_player_locations_as_dict()\n",
    "players_dict"
   ]
  },
  {
   "cell_type": "markdown",
   "metadata": {},
   "source": [
    "### Blöcke an der einer beliebigen Position setzen\n",
    "- Hier an der Position des Spielers"
   ]
  },
  {
   "cell_type": "markdown",
   "metadata": {},
   "source": [
    "- xyz-Koordinaten müssen hier als str() übergeben werden\n",
    "- coords = [\"~\", \"~\", \"~\"]"
   ]
  },
  {
   "cell_type": "code",
   "execution_count": null,
   "metadata": {
    "collapsed": true
   },
   "outputs": [],
   "source": [
    "def set_block_at_player_coords(blockname = \"minecraft:stone\", player = \"\", coords = [\"~\", \"~\", \"~\"]):\n",
    "    coordinates = \" \".join(coords)\n",
    "    get_response_command(\"execute at {} anchored eyes run setblock {} {}\".format(player, coordinates, blockname))\n",
    "    "
   ]
  },
  {
   "cell_type": "code",
   "execution_count": null,
   "metadata": {
    "collapsed": true
   },
   "outputs": [],
   "source": [
    "block_name = \"minecraft:stone\"\n",
    "player_name = \"PixelLaeufer\"\n",
    "set_block_at_player_coords(blockname = block_name, player = player_name, coords = [\"~\", \"~\", \"~\"])"
   ]
  },
  {
   "cell_type": "code",
   "execution_count": null,
   "metadata": {
    "collapsed": true
   },
   "outputs": [],
   "source": []
  },
  {
   "cell_type": "markdown",
   "metadata": {},
   "source": [
    "- hier an eine festen Position\n",
    "  - geht nur mit aktiven Chunks"
   ]
  },
  {
   "cell_type": "code",
   "execution_count": null,
   "metadata": {
    "collapsed": false
   },
   "outputs": [],
   "source": [
    "players = get_all_online_players_location()\n",
    "print(players)\n",
    "for player in players:\n",
    "    coords = player[2]\n",
    "    print(int(coords[0]), int(coords[1]), int(coords[2]))"
   ]
  },
  {
   "cell_type": "markdown",
   "metadata": {},
   "source": [
    "- hier besorge ich zunächst die Spieler Position"
   ]
  },
  {
   "cell_type": "code",
   "execution_count": null,
   "metadata": {
    "collapsed": false
   },
   "outputs": [],
   "source": [
    "player = \"PixelLaeufer\"\n",
    "players_dict = get_player_locations_as_dict()\n",
    "print(players_dict)\n",
    "print(players_dict[player][1])\n",
    "orig_coords_backup = players_dict[player].copy()\n",
    "print(orig_coords_backup)"
   ]
  },
  {
   "cell_type": "code",
   "execution_count": null,
   "metadata": {
    "collapsed": true
   },
   "outputs": [],
   "source": [
    "coords = [252, 68, 212]\n",
    "def coordstostring(coords):\n",
    "    coords=[str(int(coords[0])), str(int(coords[1])), str(int(coords[2]))]\n",
    "    return coords\n",
    "string_coords=coordstostring(coords)\n",
    "blockname = \"minecraft:stone\"\n",
    "player = \"PixelLaeufer\"\n",
    "set_block_at_player_coords(blockname = blockname, player = player, coords = string_coords)"
   ]
  },
  {
   "cell_type": "code",
   "execution_count": null,
   "metadata": {
    "collapsed": false
   },
   "outputs": [],
   "source": [
    "string_coords"
   ]
  },
  {
   "cell_type": "markdown",
   "metadata": {},
   "source": [
    "#### Generiere eine Platte an der stelle orig_coords"
   ]
  },
  {
   "cell_type": "code",
   "execution_count": null,
   "metadata": {
    "collapsed": false
   },
   "outputs": [],
   "source": [
    "orig_coords = orig_coords_backup[1].copy()\n",
    "print(orig_coords)\n",
    "\n",
    "blockname = \"minecraft:stone\"\n",
    "blockname = \"minecraft:air\"\n",
    "radius = 6\n",
    "y_offset = 0\n",
    "\n",
    "orig_coords[1] += y_offset\n",
    "orig_coords[0] -= radius\n",
    "orig_coords[2] -= radius\n",
    "\n",
    "\n",
    "for x in range(radius*2 +1):\n",
    "    coords = orig_coords.copy()\n",
    "    coords[0] = orig_coords[0] + x\n",
    "#     print(coords)\n",
    "    string_coords=coordstostring(coords)\n",
    "    set_block_at_player_coords(blockname = blockname, player = player, coords = string_coords)\n",
    "    for y in range(radius*2):\n",
    "        coords[2] = coords[2] + 1\n",
    "#         print(coords)\n",
    "#         print(x,y, string_coords)\n",
    "        string_coords=coordstostring(coords)\n",
    "        set_block_at_player_coords(blockname = blockname, player = player, coords = string_coords)\n",
    "# print(x,y, string_coords)"
   ]
  },
  {
   "cell_type": "code",
   "execution_count": null,
   "metadata": {
    "collapsed": false
   },
   "outputs": [],
   "source": [
    "get_response_command(\"setblock 252 68 212 minecraft:stone\")"
   ]
  },
  {
   "cell_type": "markdown",
   "metadata": {},
   "source": [
    "### Generiere eine 4 Wände den an der stelle orig_coords\n",
    "- mit einerm definierten Umfang"
   ]
  },
  {
   "cell_type": "code",
   "execution_count": null,
   "metadata": {
    "collapsed": false
   },
   "outputs": [],
   "source": [
    "orig_coords = orig_coords_backup[1].copy()\n",
    "print(orig_coords)\n",
    "\n",
    "# blockname = \"minecraft:gold_block\"\n",
    "blockname = \"minecraft:gold_ore\"\n",
    "# blockname = \"minecraft:stone\"\n",
    "# blockname = \"minecraft:lava\"\n",
    "# blockname = \"minecraft:water\"\n",
    "blockname = \"minecraft:air\"\n",
    "\n",
    "player = \"PixelLaeufer\"\n",
    "radius = 6\n",
    "high = 5\n",
    "\n",
    "y_offset = 1\n",
    "\n",
    "players_dict = get_player_locations_as_dict()\n",
    "\n",
    "if player in players_dict:\n",
    "#     orig_coords = players_dict[player][1].copy()\n",
    "#     orig_coords_backup = orig_coords.copy()\n",
    "    orig_coords = orig_coords_backup[1].copy()\n",
    "    orig_coords[1] += y_offset\n",
    "    print(orig_coords)\n",
    "    # orig_coords=[103, 4, -123]\n",
    "\n",
    "    orig_coords[0] -= radius\n",
    "    orig_coords[2] -= radius\n",
    "\n",
    "    print(orig_coords)\n",
    "    effect = True\n",
    "    for z in range(high):\n",
    "        coords = orig_coords.copy()\n",
    "        coords[1] += z\n",
    "        for x in range(radius*2):\n",
    "        #     actual = coords.copy()\n",
    "            coords[0] += 1\n",
    "#             print(coords)\n",
    "            string_coords=coordstostring(coords)\n",
    "            if effect: set_block_at_player_coords(blockname = blockname, player = player, coords = string_coords)\n",
    "        print(x,y,z, string_coords)\n",
    "        for y in range(radius*2):\n",
    "        #     actual = coords.copy()\n",
    "            coords[2] += 1\n",
    "#             print(coords)\n",
    "            string_coords=coordstostring(coords)\n",
    "            if effect: set_block_at_player_coords(blockname = blockname, player = player, coords = string_coords)\n",
    "        print(x,y,z, string_coords)\n",
    "        for x in range(radius*2):\n",
    "        #     actual = coords.copy()\n",
    "            coords[0] -= 1\n",
    "#             print(coords)\n",
    "            string_coords=coordstostring(coords)\n",
    "            if effect: set_block_at_player_coords(blockname = blockname, player = player, coords = string_coords)\n",
    "        print(x,y,z, string_coords)\n",
    "        for y in range(radius*2):\n",
    "        #     actual = coords.copy()\n",
    "            coords[2] -= 1\n",
    "#             print(coords)\n",
    "            string_coords=coordstostring(coords)\n",
    "            if effect: set_block_at_player_coords(blockname = blockname, player = player, coords = string_coords)\n"
   ]
  },
  {
   "cell_type": "code",
   "execution_count": null,
   "metadata": {
    "collapsed": true
   },
   "outputs": [],
   "source": []
  }
 ],
 "metadata": {
  "kernelspec": {
   "display_name": "Python 3",
   "language": "python",
   "name": "python3"
  },
  "language_info": {
   "codemirror_mode": {
    "name": "ipython",
    "version": 3
   },
   "file_extension": ".py",
   "mimetype": "text/x-python",
   "name": "python",
   "nbconvert_exporter": "python",
   "pygments_lexer": "ipython3",
   "version": "3.6.0"
  }
 },
 "nbformat": 4,
 "nbformat_minor": 2
}
